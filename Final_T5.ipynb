{
  "nbformat": 4,
  "nbformat_minor": 0,
  "metadata": {
    "colab": {
      "provenance": []
    },
    "kernelspec": {
      "name": "python3",
      "display_name": "Python 3"
    },
    "language_info": {
      "name": "python"
    }
  },
  "cells": [
    {
      "cell_type": "markdown",
      "source": [
        "## Importing our libraries"
      ],
      "metadata": {
        "id": "FIOEGXU6Xgv_"
      }
    },
    {
      "cell_type": "code",
      "source": [
        "#!pip install spacy gensim\n",
        "#!pip install datasets\n",
        "\n",
        "import torch\n",
        "from transformers import T5Tokenizer, T5ForConditionalGeneration\n",
        "from datasets import load_dataset\n",
        "from rouge_score import rouge_scorer\n",
        "\n",
        "from sumy.parsers.plaintext import PlaintextParser\n",
        "from sumy.nlp.tokenizers import Tokenizer\n",
        "from sumy.summarizers.luhn import LuhnSummarizer"
      ],
      "metadata": {
        "colab": {
          "base_uri": "https://localhost:8080/"
        },
        "id": "l-GIRc8jAQgf",
        "outputId": "fd0ba1de-3d15-4be8-a435-16e794235bcc"
      },
      "execution_count": 21,
      "outputs": [
        {
          "output_type": "stream",
          "name": "stdout",
          "text": [
            "Requirement already satisfied: datasets in /usr/local/lib/python3.10/dist-packages (2.19.1)\n",
            "Requirement already satisfied: filelock in /usr/local/lib/python3.10/dist-packages (from datasets) (3.14.0)\n",
            "Requirement already satisfied: numpy>=1.17 in /usr/local/lib/python3.10/dist-packages (from datasets) (1.25.2)\n",
            "Requirement already satisfied: pyarrow>=12.0.0 in /usr/local/lib/python3.10/dist-packages (from datasets) (14.0.2)\n",
            "Requirement already satisfied: pyarrow-hotfix in /usr/local/lib/python3.10/dist-packages (from datasets) (0.6)\n",
            "Requirement already satisfied: dill<0.3.9,>=0.3.0 in /usr/local/lib/python3.10/dist-packages (from datasets) (0.3.8)\n",
            "Requirement already satisfied: pandas in /usr/local/lib/python3.10/dist-packages (from datasets) (2.0.3)\n",
            "Requirement already satisfied: requests>=2.19.0 in /usr/local/lib/python3.10/dist-packages (from datasets) (2.31.0)\n",
            "Requirement already satisfied: tqdm>=4.62.1 in /usr/local/lib/python3.10/dist-packages (from datasets) (4.66.4)\n",
            "Requirement already satisfied: xxhash in /usr/local/lib/python3.10/dist-packages (from datasets) (3.4.1)\n",
            "Requirement already satisfied: multiprocess in /usr/local/lib/python3.10/dist-packages (from datasets) (0.70.16)\n",
            "Requirement already satisfied: fsspec[http]<=2024.3.1,>=2023.1.0 in /usr/local/lib/python3.10/dist-packages (from datasets) (2023.6.0)\n",
            "Requirement already satisfied: aiohttp in /usr/local/lib/python3.10/dist-packages (from datasets) (3.9.5)\n",
            "Requirement already satisfied: huggingface-hub>=0.21.2 in /usr/local/lib/python3.10/dist-packages (from datasets) (0.23.0)\n",
            "Requirement already satisfied: packaging in /usr/local/lib/python3.10/dist-packages (from datasets) (24.0)\n",
            "Requirement already satisfied: pyyaml>=5.1 in /usr/local/lib/python3.10/dist-packages (from datasets) (6.0.1)\n",
            "Requirement already satisfied: aiosignal>=1.1.2 in /usr/local/lib/python3.10/dist-packages (from aiohttp->datasets) (1.3.1)\n",
            "Requirement already satisfied: attrs>=17.3.0 in /usr/local/lib/python3.10/dist-packages (from aiohttp->datasets) (23.2.0)\n",
            "Requirement already satisfied: frozenlist>=1.1.1 in /usr/local/lib/python3.10/dist-packages (from aiohttp->datasets) (1.4.1)\n",
            "Requirement already satisfied: multidict<7.0,>=4.5 in /usr/local/lib/python3.10/dist-packages (from aiohttp->datasets) (6.0.5)\n",
            "Requirement already satisfied: yarl<2.0,>=1.0 in /usr/local/lib/python3.10/dist-packages (from aiohttp->datasets) (1.9.4)\n",
            "Requirement already satisfied: async-timeout<5.0,>=4.0 in /usr/local/lib/python3.10/dist-packages (from aiohttp->datasets) (4.0.3)\n",
            "Requirement already satisfied: typing-extensions>=3.7.4.3 in /usr/local/lib/python3.10/dist-packages (from huggingface-hub>=0.21.2->datasets) (4.11.0)\n",
            "Requirement already satisfied: charset-normalizer<4,>=2 in /usr/local/lib/python3.10/dist-packages (from requests>=2.19.0->datasets) (3.3.2)\n",
            "Requirement already satisfied: idna<4,>=2.5 in /usr/local/lib/python3.10/dist-packages (from requests>=2.19.0->datasets) (3.7)\n",
            "Requirement already satisfied: urllib3<3,>=1.21.1 in /usr/local/lib/python3.10/dist-packages (from requests>=2.19.0->datasets) (2.0.7)\n",
            "Requirement already satisfied: certifi>=2017.4.17 in /usr/local/lib/python3.10/dist-packages (from requests>=2.19.0->datasets) (2024.2.2)\n",
            "Requirement already satisfied: python-dateutil>=2.8.2 in /usr/local/lib/python3.10/dist-packages (from pandas->datasets) (2.8.2)\n",
            "Requirement already satisfied: pytz>=2020.1 in /usr/local/lib/python3.10/dist-packages (from pandas->datasets) (2023.4)\n",
            "Requirement already satisfied: tzdata>=2022.1 in /usr/local/lib/python3.10/dist-packages (from pandas->datasets) (2024.1)\n",
            "Requirement already satisfied: six>=1.5 in /usr/local/lib/python3.10/dist-packages (from python-dateutil>=2.8.2->pandas->datasets) (1.16.0)\n"
          ]
        }
      ]
    },
    {
      "cell_type": "markdown",
      "source": [
        "#Importing the Dataset"
      ],
      "metadata": {
        "id": "lNPR1t6iXkMz"
      }
    },
    {
      "cell_type": "code",
      "source": [
        "import datasets\n",
        "dataset = datasets.load_dataset(\"cnn_dailymail\", \"3.0.0\")\n",
        "\n",
        "train = dataset['train']\n",
        "test = dataset['test']\n",
        "validation = dataset['validation']"
      ],
      "metadata": {
        "id": "HRPtmdrnAR_8"
      },
      "execution_count": 22,
      "outputs": []
    },
    {
      "cell_type": "code",
      "source": [
        "#!pip install transformers torch rouge-score gensim\n",
        "#!pip install transformers torch rouge-score sumy\n",
        "#!pip install sumy"
      ],
      "metadata": {
        "colab": {
          "base_uri": "https://localhost:8080/"
        },
        "id": "5oFdXKwVEVqg",
        "outputId": "fed5e188-8565-4af0-e485-34eb0521ecab"
      },
      "execution_count": 23,
      "outputs": [
        {
          "output_type": "stream",
          "name": "stdout",
          "text": [
            "Requirement already satisfied: transformers in /usr/local/lib/python3.10/dist-packages (4.40.1)\n",
            "Requirement already satisfied: torch in /usr/local/lib/python3.10/dist-packages (2.2.1+cu121)\n",
            "Requirement already satisfied: rouge-score in /usr/local/lib/python3.10/dist-packages (0.1.2)\n",
            "Requirement already satisfied: sumy in /usr/local/lib/python3.10/dist-packages (0.11.0)\n",
            "Requirement already satisfied: filelock in /usr/local/lib/python3.10/dist-packages (from transformers) (3.14.0)\n",
            "Requirement already satisfied: huggingface-hub<1.0,>=0.19.3 in /usr/local/lib/python3.10/dist-packages (from transformers) (0.23.0)\n",
            "Requirement already satisfied: numpy>=1.17 in /usr/local/lib/python3.10/dist-packages (from transformers) (1.25.2)\n",
            "Requirement already satisfied: packaging>=20.0 in /usr/local/lib/python3.10/dist-packages (from transformers) (24.0)\n",
            "Requirement already satisfied: pyyaml>=5.1 in /usr/local/lib/python3.10/dist-packages (from transformers) (6.0.1)\n",
            "Requirement already satisfied: regex!=2019.12.17 in /usr/local/lib/python3.10/dist-packages (from transformers) (2023.12.25)\n",
            "Requirement already satisfied: requests in /usr/local/lib/python3.10/dist-packages (from transformers) (2.31.0)\n",
            "Requirement already satisfied: tokenizers<0.20,>=0.19 in /usr/local/lib/python3.10/dist-packages (from transformers) (0.19.1)\n",
            "Requirement already satisfied: safetensors>=0.4.1 in /usr/local/lib/python3.10/dist-packages (from transformers) (0.4.3)\n",
            "Requirement already satisfied: tqdm>=4.27 in /usr/local/lib/python3.10/dist-packages (from transformers) (4.66.4)\n",
            "Requirement already satisfied: typing-extensions>=4.8.0 in /usr/local/lib/python3.10/dist-packages (from torch) (4.11.0)\n",
            "Requirement already satisfied: sympy in /usr/local/lib/python3.10/dist-packages (from torch) (1.12)\n",
            "Requirement already satisfied: networkx in /usr/local/lib/python3.10/dist-packages (from torch) (3.3)\n",
            "Requirement already satisfied: jinja2 in /usr/local/lib/python3.10/dist-packages (from torch) (3.1.3)\n",
            "Requirement already satisfied: fsspec in /usr/local/lib/python3.10/dist-packages (from torch) (2023.6.0)\n",
            "Requirement already satisfied: nvidia-cuda-nvrtc-cu12==12.1.105 in /usr/local/lib/python3.10/dist-packages (from torch) (12.1.105)\n",
            "Requirement already satisfied: nvidia-cuda-runtime-cu12==12.1.105 in /usr/local/lib/python3.10/dist-packages (from torch) (12.1.105)\n",
            "Requirement already satisfied: nvidia-cuda-cupti-cu12==12.1.105 in /usr/local/lib/python3.10/dist-packages (from torch) (12.1.105)\n",
            "Requirement already satisfied: nvidia-cudnn-cu12==8.9.2.26 in /usr/local/lib/python3.10/dist-packages (from torch) (8.9.2.26)\n",
            "Requirement already satisfied: nvidia-cublas-cu12==12.1.3.1 in /usr/local/lib/python3.10/dist-packages (from torch) (12.1.3.1)\n",
            "Requirement already satisfied: nvidia-cufft-cu12==11.0.2.54 in /usr/local/lib/python3.10/dist-packages (from torch) (11.0.2.54)\n",
            "Requirement already satisfied: nvidia-curand-cu12==10.3.2.106 in /usr/local/lib/python3.10/dist-packages (from torch) (10.3.2.106)\n",
            "Requirement already satisfied: nvidia-cusolver-cu12==11.4.5.107 in /usr/local/lib/python3.10/dist-packages (from torch) (11.4.5.107)\n",
            "Requirement already satisfied: nvidia-cusparse-cu12==12.1.0.106 in /usr/local/lib/python3.10/dist-packages (from torch) (12.1.0.106)\n",
            "Requirement already satisfied: nvidia-nccl-cu12==2.19.3 in /usr/local/lib/python3.10/dist-packages (from torch) (2.19.3)\n",
            "Requirement already satisfied: nvidia-nvtx-cu12==12.1.105 in /usr/local/lib/python3.10/dist-packages (from torch) (12.1.105)\n",
            "Requirement already satisfied: triton==2.2.0 in /usr/local/lib/python3.10/dist-packages (from torch) (2.2.0)\n",
            "Requirement already satisfied: nvidia-nvjitlink-cu12 in /usr/local/lib/python3.10/dist-packages (from nvidia-cusolver-cu12==11.4.5.107->torch) (12.4.127)\n",
            "Requirement already satisfied: absl-py in /usr/local/lib/python3.10/dist-packages (from rouge-score) (1.4.0)\n",
            "Requirement already satisfied: nltk in /usr/local/lib/python3.10/dist-packages (from rouge-score) (3.8.1)\n",
            "Requirement already satisfied: six>=1.14.0 in /usr/local/lib/python3.10/dist-packages (from rouge-score) (1.16.0)\n",
            "Requirement already satisfied: docopt<0.7,>=0.6.1 in /usr/local/lib/python3.10/dist-packages (from sumy) (0.6.2)\n",
            "Requirement already satisfied: breadability>=0.1.20 in /usr/local/lib/python3.10/dist-packages (from sumy) (0.1.20)\n",
            "Requirement already satisfied: pycountry>=18.2.23 in /usr/local/lib/python3.10/dist-packages (from sumy) (23.12.11)\n",
            "Requirement already satisfied: chardet in /usr/local/lib/python3.10/dist-packages (from breadability>=0.1.20->sumy) (5.2.0)\n",
            "Requirement already satisfied: lxml>=2.0 in /usr/local/lib/python3.10/dist-packages (from breadability>=0.1.20->sumy) (4.9.4)\n",
            "Requirement already satisfied: click in /usr/local/lib/python3.10/dist-packages (from nltk->rouge-score) (8.1.7)\n",
            "Requirement already satisfied: joblib in /usr/local/lib/python3.10/dist-packages (from nltk->rouge-score) (1.4.2)\n",
            "Requirement already satisfied: charset-normalizer<4,>=2 in /usr/local/lib/python3.10/dist-packages (from requests->transformers) (3.3.2)\n",
            "Requirement already satisfied: idna<4,>=2.5 in /usr/local/lib/python3.10/dist-packages (from requests->transformers) (3.7)\n",
            "Requirement already satisfied: urllib3<3,>=1.21.1 in /usr/local/lib/python3.10/dist-packages (from requests->transformers) (2.0.7)\n",
            "Requirement already satisfied: certifi>=2017.4.17 in /usr/local/lib/python3.10/dist-packages (from requests->transformers) (2024.2.2)\n",
            "Requirement already satisfied: MarkupSafe>=2.0 in /usr/local/lib/python3.10/dist-packages (from jinja2->torch) (2.1.5)\n",
            "Requirement already satisfied: mpmath>=0.19 in /usr/local/lib/python3.10/dist-packages (from sympy->torch) (1.3.0)\n"
          ]
        }
      ]
    },
    {
      "cell_type": "code",
      "source": [
        "#!python -c \"import nltk; nltk.download('punkt')\""
      ],
      "metadata": {
        "colab": {
          "base_uri": "https://localhost:8080/"
        },
        "id": "cnaGMPdxFQKI",
        "outputId": "2ec84236-8b7e-4580-9a73-cb1f18ac8f1f"
      },
      "execution_count": 24,
      "outputs": [
        {
          "output_type": "stream",
          "name": "stdout",
          "text": [
            "[nltk_data] Downloading package punkt to /root/nltk_data...\n",
            "[nltk_data]   Package punkt is already up-to-date!\n"
          ]
        }
      ]
    },
    {
      "cell_type": "markdown",
      "source": [
        "## Training the model and comparing using ROUGE METRIC"
      ],
      "metadata": {
        "id": "kAqhoanAXRvM"
      }
    },
    {
      "cell_type": "code",
      "source": [
        "# We use the t5_small and tokenize accordingly\n",
        "model_name = 't5-small'\n",
        "tokenizer = T5Tokenizer.from_pretrained(model_name)\n",
        "model = T5ForConditionalGeneration.from_pretrained(model_name)\n",
        "if torch.cuda.is_available():\n",
        "    model.cuda()\n",
        "\n",
        "def generate_headline(article, max_input_length=512, max_output_length=150):\n",
        "    prefixed_text = f\"summarize: {article}\"\n",
        "    inputs = tokenizer(prefixed_text, return_tensors=\"pt\", max_length=max_input_length, truncation=True)\n",
        "    if torch.cuda.is_available():\n",
        "        inputs = inputs.to(model.device)\n",
        "\n",
        "    summary_ids = model.generate(\n",
        "        inputs[\"input_ids\"],\n",
        "        max_length=max_output_length,\n",
        "        min_length=40,\n",
        "        length_penalty=2.0,\n",
        "        num_beams=4,\n",
        "        early_stopping=True\n",
        "    )\n",
        "    summary = tokenizer.decode(summary_ids[0], skip_special_tokens=True)\n",
        "    return summary\n",
        "\n",
        "def sumy_summarize(article):\n",
        "    parser = PlaintextParser.from_string(article, Tokenizer(\"english\"))\n",
        "    summarizer = LuhnSummarizer()\n",
        "    summary = summarizer(parser.document, 1)  # Summarizing to 1 sentence for ease of comparasion\n",
        "    return ' '.join(sentence._text for sentence in summary)\n",
        "\n",
        "# ROUGE Scorer\n",
        "scorer = rouge_scorer.RougeScorer(['rouge1', 'rouge2', 'rougeL'], use_stemmer=True)"
      ],
      "metadata": {
        "colab": {
          "base_uri": "https://localhost:8080/"
        },
        "id": "jLdLX4huVGmD",
        "outputId": "363f0ee3-b1d1-499b-ce5e-c7f314467d6b"
      },
      "execution_count": 48,
      "outputs": [
        {
          "output_type": "stream",
          "name": "stderr",
          "text": [
            "Special tokens have been added in the vocabulary, make sure the associated word embeddings are fine-tuned or trained.\n"
          ]
        }
      ]
    },
    {
      "cell_type": "markdown",
      "source": [
        "## Taking examples to generate the headlines"
      ],
      "metadata": {
        "id": "e3C0UFOZX4ml"
      }
    },
    {
      "cell_type": "code",
      "source": [
        "# Using the ROUGE metric to do the comparasion\n",
        "for example in dataset.take(5):  # Taking 5 samples for our example\n",
        "    article = example['article']\n",
        "    original_highlight = example['highlights']\n",
        "    generated_headline = generate_headline(article)\n",
        "    sumy_summary = sumy_summarize(article)\n",
        "    t5_scores = scorer.score(original_highlight, generated_headline)\n",
        "    sumy_scores = scorer.score(generated_headline , sumy_summary)\n",
        "\n",
        "    print()\n",
        "    print(\"Generated Headline (T5):\", generated_headline)\n",
        "    print()\n",
        "    print(\"Sumy Summary:\", sumy_summary)\n",
        "    print()\n",
        "    print(\"Original Highlight:\", original_highlight)\n",
        "    print()\n",
        "    print(\"T5 ROUGE Scores:\", t5_scores)\n",
        "    print()\n",
        "    print(\"Sumy ROUGE Scores:\", sumy_scores)\n",
        "    print(\"----\")"
      ],
      "metadata": {
        "colab": {
          "base_uri": "https://localhost:8080/"
        },
        "id": "tWVmzCrvVQ5k",
        "outputId": "8b6b58d1-b434-4932-cd04-0ff909b2eb85"
      },
      "execution_count": 46,
      "outputs": [
        {
          "output_type": "stream",
          "name": "stdout",
          "text": [
            "\n",
            "Generated Headline (T5): the young actor says he has no plans to fritter his cash away on fast cars, drink and celebrity parties. he will be able to gamble in a casino, buy a drink in a pub or see the horror film \"Hostel: Part II\" despite his growing fame, he says he is keeping his feet firmly on the ground.\n",
            "\n",
            "Sumy Summary: Daniel Radcliffe as Harry Potter in \"Harry Potter and the Order of the Phoenix\" To the disappointment of gossip columnists around the world, the young actor says he has no plans to fritter his cash away on fast cars, drink and celebrity parties.\n",
            "\n",
            "Original Highlight: Harry Potter star Daniel Radcliffe gets £20M fortune as he turns 18 Monday .\n",
            "Young actor says he has no plans to fritter his cash away .\n",
            "Radcliffe's earnings from first five Potter films have been held in trust fund .\n",
            "\n",
            "T5 ROUGE Scores: {'rouge1': Score(precision=0.25862068965517243, recall=0.38461538461538464, fmeasure=0.30927835051546393), 'rouge2': Score(precision=0.19298245614035087, recall=0.2894736842105263, fmeasure=0.23157894736842105), 'rougeL': Score(precision=0.22413793103448276, recall=0.3333333333333333, fmeasure=0.268041237113402)}\n",
            "\n",
            "Sumy ROUGE Scores: {'rouge1': Score(precision=0.5581395348837209, recall=0.41379310344827586, fmeasure=0.4752475247524752), 'rouge2': Score(precision=0.4523809523809524, recall=0.3333333333333333, fmeasure=0.3838383838383838), 'rougeL': Score(precision=0.46511627906976744, recall=0.3448275862068966, fmeasure=0.39603960396039606)}\n",
            "----\n",
            "\n",
            "Generated Headline (T5): inmates with most severe mental illnesses are incarcerated until they're ready to appear in court. judge says arrests often result from confrontations with police. prisoners are wearing sleeveless robes, wearing sleeveless robes.\n",
            "\n",
            "Sumy Summary: Here, Soledad O'Brien takes users inside a jail where many of the inmates are mentally ill. An inmate housed on the \"forgotten floor,\" where many mentally ill inmates are housed in Miami before trial.\n",
            "\n",
            "Original Highlight: Mentally ill inmates in Miami are housed on the \"forgotten floor\"\n",
            "Judge Steven Leifman says most are there as a result of \"avoidable felonies\"\n",
            "While CNN tours facility, patient shouts: \"I am the son of the president\"\n",
            "Leifman says the system is unjust and he's fighting for change .\n",
            "\n",
            "T5 ROUGE Scores: {'rouge1': Score(precision=0.30303030303030304, recall=0.20408163265306123, fmeasure=0.24390243902439027), 'rouge2': Score(precision=0.03125, recall=0.020833333333333332, fmeasure=0.025), 'rougeL': Score(precision=0.18181818181818182, recall=0.12244897959183673, fmeasure=0.14634146341463417)}\n",
            "\n",
            "Sumy ROUGE Scores: {'rouge1': Score(precision=0.17142857142857143, recall=0.18181818181818182, fmeasure=0.1764705882352941), 'rouge2': Score(precision=0.029411764705882353, recall=0.03125, fmeasure=0.030303030303030304), 'rougeL': Score(precision=0.14285714285714285, recall=0.15151515151515152, fmeasure=0.14705882352941174)}\n",
            "----\n",
            "\n",
            "Generated Headline (T5): survivor: \"i probably had a 30-, 35-foot free fall. And there's cars in the water, there's cars on fire. the whole bridge is down\" a doctor jumped into his car and rushed to the scene in 15 minutes. 55 people into ambulances in less than two hours.\n",
            "\n",
            "Sumy Summary: \"So I stayed in my car until the cars quit falling for a second, then I got out real quick, ran in front of my truck -- because behind my truck was just a hole -- and I helped a woman off of the bridge with me.\n",
            "\n",
            "Original Highlight: NEW: \"I thought I was going to die,\" driver says .\n",
            "Man says pickup truck was folded in half; he just has cut on face .\n",
            "Driver: \"I probably had a 30-, 35-foot free fall\"\n",
            "Minnesota bridge collapsed during rush hour Wednesday .\n",
            "\n",
            "T5 ROUGE Scores: {'rouge1': Score(precision=0.3, recall=0.36585365853658536, fmeasure=0.3296703296703297), 'rouge2': Score(precision=0.16326530612244897, recall=0.2, fmeasure=0.17977528089887637), 'rougeL': Score(precision=0.24, recall=0.2926829268292683, fmeasure=0.2637362637362637)}\n",
            "\n",
            "Sumy ROUGE Scores: {'rouge1': Score(precision=0.26666666666666666, recall=0.24, fmeasure=0.2526315789473685), 'rouge2': Score(precision=0.0, recall=0.0, fmeasure=0.0), 'rougeL': Score(precision=0.15555555555555556, recall=0.14, fmeasure=0.1473684210526316)}\n",
            "----\n",
            "\n",
            "Generated Headline (T5): the polyps were removed and sent to the national Naval Medical Center in Bethesda, Maryland. results are expected in two to three days. vice president Dick Cheney assumed presidential power at 9:21 a.m.\n",
            "\n",
            "Sumy Summary: The procedure was supervised by Dr. Richard Tubb, Bush's physician, and conducted by a multidisciplinary team from the National Naval Medical Center in Bethesda, Maryland, the White House said.\n",
            "\n",
            "Original Highlight: Five small polyps found during procedure; \"none worrisome,\" spokesman says .\n",
            "President reclaims powers transferred to vice president .\n",
            "Bush undergoes routine colonoscopy at Camp David .\n",
            "\n",
            "T5 ROUGE Scores: {'rouge1': Score(precision=0.17142857142857143, recall=0.25, fmeasure=0.2033898305084746), 'rouge2': Score(precision=0.029411764705882353, recall=0.043478260869565216, fmeasure=0.035087719298245605), 'rougeL': Score(precision=0.14285714285714285, recall=0.20833333333333334, fmeasure=0.1694915254237288)}\n",
            "\n",
            "Sumy ROUGE Scores: {'rouge1': Score(precision=0.36666666666666664, recall=0.3142857142857143, fmeasure=0.3384615384615384), 'rouge2': Score(precision=0.2413793103448276, recall=0.20588235294117646, fmeasure=0.22222222222222224), 'rougeL': Score(precision=0.3333333333333333, recall=0.2857142857142857, fmeasure=0.30769230769230765)}\n",
            "----\n",
            "\n",
            "Generated Headline (T5): new: \"your admitted conduct was not only illegal, but also cruel and reprehensible,\" nfl commissioner says. new: \"your admitted conduct was not only illegal, but also cruel and reprehensible,\" nfl commissioner says. new: the suspension makes a strong statement that conduct which tarnishes the good reputation of the NFL will not be tolerated. new: a judge will have the final say on a plea deal.\n",
            "\n",
            "Sumy Summary: In an additional summary of facts, signed by Vick and filed with the agreement, Vick admitted buying pit bulls and the property used for training and fighting the dogs, but the statement said he did not bet on the fights or receive any of the money won.\n",
            "\n",
            "Original Highlight: NEW: NFL chief, Atlanta Falcons owner critical of Michael Vick's conduct .\n",
            "NFL suspends Falcons quarterback indefinitely without pay .\n",
            "Vick admits funding dogfighting operation but says he did not gamble .\n",
            "Vick due in federal court Monday; future in NFL remains uncertain .\n",
            "\n",
            "T5 ROUGE Scores: {'rouge1': Score(precision=0.15384615384615385, recall=0.24390243902439024, fmeasure=0.18867924528301888), 'rouge2': Score(precision=0.0, recall=0.0, fmeasure=0.0), 'rougeL': Score(precision=0.1076923076923077, recall=0.17073170731707318, fmeasure=0.1320754716981132)}\n",
            "\n",
            "Sumy ROUGE Scores: {'rouge1': Score(precision=0.2553191489361702, recall=0.18461538461538463, fmeasure=0.21428571428571427), 'rouge2': Score(precision=0.021739130434782608, recall=0.015625, fmeasure=0.01818181818181818), 'rougeL': Score(precision=0.1702127659574468, recall=0.12307692307692308, fmeasure=0.14285714285714285)}\n",
            "----\n"
          ]
        }
      ]
    }
  ]
}